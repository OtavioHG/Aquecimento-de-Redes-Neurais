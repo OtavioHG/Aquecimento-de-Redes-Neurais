{
 "cells": [
  {
   "cell_type": "code",
   "execution_count": null,
   "metadata": {},
   "outputs": [],
   "source": [
    "!py -m venv venv"
   ]
  },
  {
   "cell_type": "code",
   "execution_count": null,
   "metadata": {
    "colab": {
     "base_uri": "https://localhost:8080/"
    },
    "id": "ZYWrVabVyEEC",
    "outputId": "d07ac91e-abcf-4d47-a194-4d48e1b8c535"
   },
   "outputs": [],
   "source": [
    "!curl -L https://s3.amazonaws.com/fast-ai-imageclas/imagewoof2.tgz -o imagewoof2.tgz"
   ]
  },
  {
   "cell_type": "code",
   "execution_count": null,
   "metadata": {
    "id": "hmhIXRkmyhF8"
   },
   "outputs": [],
   "source": [
    "!tar zxvf imagewoof2.tgz"
   ]
  },
  {
   "cell_type": "code",
   "execution_count": null,
   "metadata": {
    "id": "upu-qWiOy7DI"
   },
   "outputs": [],
   "source": [
    "%pip install deepfeatx"
   ]
  },
  {
   "cell_type": "code",
   "execution_count": null,
   "metadata": {
    "id": "4qPUKh8EzLu8"
   },
   "outputs": [],
   "source": [
    "from deepfeatx.image import ImageFeatureExtractor"
   ]
  },
  {
   "cell_type": "code",
   "execution_count": null,
   "metadata": {
    "id": "VryejwlRzXwU"
   },
   "outputs": [],
   "source": [
    "fe = ImageFeatureExtractor('efficientnetb4')"
   ]
  },
  {
   "cell_type": "code",
   "execution_count": null,
   "metadata": {
    "id": "kQC7fmx00Ovm"
   },
   "outputs": [],
   "source": [
    "fe.extract_features_from_directory('/content/imagewoof2/train',\n",
    "                                   classes_as_folders=True,\n",
    "                                   export_class_names=True\n",
    "                                   )"
   ]
  },
  {
   "cell_type": "code",
   "execution_count": null,
   "metadata": {
    "id": "daZype8707he"
   },
   "outputs": [],
   "source": [
    "train = fe.extract_features_from_directory('/content/imagewoof2/train',\n",
    "                                   classes_as_folders=True,\n",
    "                                   export_class_names=True\n",
    "                                   )"
   ]
  },
  {
   "cell_type": "code",
   "execution_count": null,
   "metadata": {
    "id": "lQwQLF4m314L"
   },
   "outputs": [],
   "source": [
    "test = fe.extract_features_from_directory('/content/imagewoof2/val',\n",
    "                                   classes_as_folders=True,\n",
    "                                   export_class_names=True\n",
    "                                   )"
   ]
  },
  {
   "cell_type": "code",
   "execution_count": null,
   "metadata": {
    "id": "XtiRTFJd13-2"
   },
   "outputs": [],
   "source": [
    "from sklearn.linear_model import LogisticRegression"
   ]
  },
  {
   "cell_type": "code",
   "execution_count": null,
   "metadata": {
    "id": "Qc6Rpfkr1-4G"
   },
   "outputs": [],
   "source": [
    "X_train = train.drop(['filepaths', 'classes'], axis=1)\n",
    "X_test = test.drop(['filepaths', 'classes'], axis=1)\n",
    "\n",
    "y_train = train['classes']\n",
    "y_test = test['classes']\n",
    "\n",
    "lr = LogisticRegression().fit(X_train, y_train)"
   ]
  },
  {
   "cell_type": "code",
   "execution_count": null,
   "metadata": {
    "id": "IwXIZVg84mlb"
   },
   "outputs": [],
   "source": [
    "lr.score(X_test, y_test)"
   ]
  },
  {
   "cell_type": "code",
   "execution_count": null,
   "metadata": {
    "id": "TNRPu5-p5GuD"
   },
   "outputs": [],
   "source": [
    "from sklearn.metrics import confusion_matrix"
   ]
  },
  {
   "cell_type": "code",
   "execution_count": null,
   "metadata": {
    "id": "nV94seKC5YZ7"
   },
   "outputs": [],
   "source": [
    "\n",
    "y_pred = lr.predict(X_test)\n",
    "cm = confusion_matrix(y_test, y_pred)\n",
    "cm"
   ]
  },
  {
   "cell_type": "code",
   "execution_count": null,
   "metadata": {
    "id": "xdJ0GYVS5ebd"
   },
   "outputs": [],
   "source": [
    "import seaborn as sns\n",
    "sns.heatmap(cm, annot=True, fmt='g')"
   ]
  },
  {
   "cell_type": "code",
   "execution_count": null,
   "metadata": {
    "id": "UhP3Ag9i5cp8"
   },
   "outputs": [],
   "source": []
  }
 ],
 "metadata": {
  "accelerator": "GPU",
  "colab": {
   "gpuType": "T4",
   "provenance": []
  },
  "kernelspec": {
   "display_name": "venv",
   "language": "python",
   "name": "python3"
  },
  "language_info": {
   "codemirror_mode": {
    "name": "ipython",
    "version": 3
   },
   "file_extension": ".py",
   "mimetype": "text/x-python",
   "name": "python",
   "nbconvert_exporter": "python",
   "pygments_lexer": "ipython3",
   "version": "3.12.1"
  }
 },
 "nbformat": 4,
 "nbformat_minor": 0
}
